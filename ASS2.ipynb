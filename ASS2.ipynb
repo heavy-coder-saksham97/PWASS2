{
 "cells": [
  {
   "cell_type": "raw",
   "id": "cca50954-03a2-4597-a134-aac6b68aae9f",
   "metadata": {},
   "source": [
    "QUES1:DISCUSS STRING SLICING WITH SOME EXAMPLES?\n",
    " ANS-1:  String slicing in Python is a powerful feature that allows you to access a portion of a string by specifying a range of indices. Slicing helps you extract substrings from a string using a specific syntax.\n",
    " SYNTAX:\n",
    " string[starting index:stop index:jump] "
   ]
  },
  {
   "cell_type": "code",
   "execution_count": 1,
   "id": "3391e638-1c0d-4ca4-a6ce-4e0051aef543",
   "metadata": {},
   "outputs": [
    {
     "name": "stdout",
     "output_type": "stream",
     "text": [
      "Hello\n",
      "World\n"
     ]
    }
   ],
   "source": [
    "#EXAMPLE1:\n",
    "text = \"Hello, World!\"\n",
    "slice1 = text[0:5]  # \"Hello\"\n",
    "slice2 = text[7:12] # \"World\"\n",
    "print(slice1)\n",
    "print(slice2)"
   ]
  },
  {
   "cell_type": "raw",
   "id": "7590a50e-4f65-44d9-9fa3-d4d19dae3ac6",
   "metadata": {},
   "source": [
    "QUES 2:\n",
    "EXPLAIN KEY FEATURES OF LIST IN PYTHON?\n",
    "ANS-2:\n",
    "Lists maintain the order of the elements as they are added. The elements can be accessed using indices, where the first element has an index of 0, the second has an index of 1, and so on.\n",
    "Lists are mutable, meaning that the elements of a list can be changed after the list has been created. You can add, remove, or modify elements within a list.\n",
    "Lists can contain elements of different data types, including other lists. This allows for a high degree of flexibility when working with data.\n",
    "Python provides a concise way to create lists using list comprehensions, which allows for the generation of lists in a readable and efficient manner."
   ]
  },
  {
   "cell_type": "code",
   "execution_count": 2,
   "id": "2e2e3559-f21e-4f83-875c-36ca0d01aeee",
   "metadata": {},
   "outputs": [
    {
     "name": "stdout",
     "output_type": "stream",
     "text": [
      "10\n",
      "30\n",
      "[1, 5, 3]\n",
      "[1, 'apple', 3.14, [5, 6]]\n",
      "[0, 1, 4, 9, 16]\n"
     ]
    }
   ],
   "source": [
    "#EXAMPLES:\n",
    "my_list = [10, 20, 30, 40]\n",
    "print(my_list[0])  # Output: 10\n",
    "print(my_list[2])  # Output: 30\n",
    "\n",
    "\n",
    "my_lis = [1, 2, 3]\n",
    "my_lis[1] = 5\n",
    "print(my_lis)  # Output: [1, 5, 3]\n",
    "\n",
    "list = [1, \"apple\", 3.14, [5, 6]]\n",
    "print(list)  # Output: [1, \"apple\", 3.14, [5, 6]]\n",
    "\n",
    "squares = [x**2 for x in range(5)]\n",
    "print(squares)  # Output: [0, 1, 4, 9, 16]"
   ]
  },
  {
   "cell_type": "raw",
   "id": "4c7a06ed-4ae5-4606-9c20-993480e8e695",
   "metadata": {},
   "source": [
    "QUES 3:\n",
    "Describe how to access, modify and delete elements in a list?\n",
    "ANS 3:"
   ]
  },
  {
   "cell_type": "code",
   "execution_count": 6,
   "id": "f4564efd-62fd-4acc-b169-e32a343c29a3",
   "metadata": {},
   "outputs": [
    {
     "name": "stdout",
     "output_type": "stream",
     "text": [
      "10\n",
      "30\n",
      "[10, 25, 30, 40, 50]\n",
      "[10, 25, 40, 50]\n"
     ]
    }
   ],
   "source": [
    "my_list = [10, 20, 30, 40, 50]\n",
    "print(my_list[0])  # Outputs: 10\n",
    "print(my_list[2])  # Outputs: 30\n",
    "\n",
    "my_list[1] = 25\n",
    "print(my_list)  # Outputs: [10, 25, 30, 40, 50]\n",
    "\n",
    "del my_list[2]\n",
    "print(my_list)  # Outputs: [10, 21, 40, 50]\n",
    "\n"
   ]
  },
  {
   "cell_type": "raw",
   "id": "ae6c9f98-d2fc-4f6a-839b-06c10fac76ea",
   "metadata": {},
   "source": [
    "QUES4:\n",
    "COMPARE AND CONTRAST LIST AND TUPLES WITH EXAMPLES?\n",
    "ANS 4:\n",
    "Lists: Lists are mutable, meaning you can change, add, or remove elements after the list has been created.Lists: Lists are defined using square brackets [].\n",
    "Tuples: Tuples are immutable, meaning once a tuple is created, it cannot be modified.Tuples are defined using parentheses ()\n"
   ]
  },
  {
   "cell_type": "code",
   "execution_count": 7,
   "id": "ab1e5c87-1ca3-47da-932b-3568b687f66b",
   "metadata": {},
   "outputs": [
    {
     "name": "stdout",
     "output_type": "stream",
     "text": [
      "[10, 25, 30, 40]\n"
     ]
    }
   ],
   "source": [
    "my_list = [10, 20, 30]\n",
    "my_list[1] = 25  # Modifying an element\n",
    "my_list.append(40)  # Adding a new element\n",
    "print(my_list)  # Outputs: [10, 25, 30, 40]\n",
    "\n",
    "my_tuple = (10, 20, 30)\n",
    "# Attempting to modify will raise an error\n",
    "# my_tuple[1] = 25  # Uncommenting this will cause a TypeError\n",
    "\n",
    "my_list = [1, 2, 3, 4]\n",
    "mu_tup=(1,2,3,4)"
   ]
  },
  {
   "cell_type": "raw",
   "id": "f3821239-d084-4757-a263-b2d66e1852bb",
   "metadata": {},
   "source": [
    "QUES 5:\n",
    "Describe key features of sets and provide examples of their use?\n",
    "ANS 5:\n",
    "Python sets do not preserve the order of elements. This means that the items have no specific order and can appear in any sequence.\n",
    "Sets automatically ensure that all elements are unique. If you try to add a duplicate, it will be ignored.\n",
    "While the elements of a set must be immutable (e.g., numbers, strings, tuples), the set itself is mutable, meaning you can add or remove elements.\n",
    "Sets automatically handle duplicates by storing only one instance of each element.\n"
   ]
  },
  {
   "cell_type": "code",
   "execution_count": 8,
   "id": "b293694c-f608-4fcb-81db-767bd0ace4cf",
   "metadata": {},
   "outputs": [
    {
     "name": "stdout",
     "output_type": "stream",
     "text": [
      "{1, 2, 3}\n",
      "{1, 2, 3}\n",
      "{1, 2, 3, 4}\n"
     ]
    }
   ],
   "source": [
    "#EXAMPLES:\n",
    "my_set = {1, 3, 2}\n",
    "print(my_set)  # Output could be {1, 2, 3} or {3, 1, 2}, etc.\n",
    "\n",
    "my_set = {1, 2, 2, 3}\n",
    "print(my_set)  # Output: {1, 2, 3}\n",
    "\n",
    "my_set = {1, 2, 3}\n",
    "my_set.add(4)\n",
    "print(my_set)  # Output: {1, 2, 3, 4}"
   ]
  },
  {
   "cell_type": "raw",
   "id": "d1ba8761-2a1c-4e7b-b158-f623416ce43f",
   "metadata": {},
   "source": [
    "QUES 6:\n",
    " DISCUSS THE USE CASE OF SETS AND TUPLES IN PYTHON?\n",
    " ANS 6:\n",
    " TUPLES:A tuple is an ordered, immutable collection of elements. Once a tuple is created, its elements cannot be changed, added, or removed.Tuples are ideal when you have a fixed collection of items that shouldn't change throughout the program. For example, coordinates (x, y), RGB color values, or days of the week can be represented as tuples.Because tuples are immutable, they are generally faster and use less memory than lists. Therefore, if you have a collection of data that doesn’t need to change, using a tuple can be more efficient.\n",
    " SETS:\n",
    "  A set is an unordered collection of unique elements. Sets are mutable, but they do not allow duplicate elements.Sets are often used to remove duplicates from a collection. For instance, converting a list to a set will automatically remove any duplicate values.\n"
   ]
  },
  {
   "cell_type": "raw",
   "id": "f16b7910-15b0-4aa7-85ba-e6acec40bbe9",
   "metadata": {},
   "source": [
    "QUES 7:\n",
    "DISCUSS HOW TO ACCESS , ADD, MODIFY ITEMS IN DICTIONARY?\n",
    "ANS 7:\n"
   ]
  },
  {
   "cell_type": "code",
   "execution_count": 9,
   "id": "74acd0fa-970a-46e8-ab38-c810e3febd53",
   "metadata": {},
   "outputs": [
    {
     "name": "stdout",
     "output_type": "stream",
     "text": [
      "Alice\n",
      "Alice\n",
      "USA\n",
      "{'name': 'Alice', 'age': 25, 'city': 'New York', 'email': 'alice@example.com'}\n",
      "{'name': 'Alice', 'age': 26, 'city': 'New York', 'email': 'alice@example.com'}\n",
      "{'name': 'Alice', 'age': 26, 'email': 'alice@example.com'}\n"
     ]
    }
   ],
   "source": [
    "\n",
    "my_dict = {'name': 'Alice', 'age': 25, 'city': 'New York'}\n",
    "print(my_dict['name'])  # Output: Alice\n",
    "print(my_dict.get('name'))  # Output: Alice\n",
    "print(my_dict.get('country', 'USA'))  # Output: USA\n",
    "\n",
    "#MODIFY\n",
    "my_dict['email'] = 'alice@example.com'\n",
    "print(my_dict)\n",
    "my_dict['age'] = 26\n",
    "print(my_dict)\n",
    "\n",
    "#DELETE\n",
    "del my_dict['city']\n",
    "print(my_dict)  "
   ]
  },
  {
   "cell_type": "raw",
   "id": "baa11437-b074-499d-8096-7c6ea1799245",
   "metadata": {},
   "source": [
    "QUES 8:\n",
    "DISCUSS THE IMPORTANCE OF DICTIONARY BEING IMMUTABLE ?\n",
    "ANS8:\n",
    "Strings and tuples are immutable types, so they make reliable dictionary keys. The dictionary maintains the association between keys and values correctly, and there are no issues with data retrieval or integrity."
   ]
  },
  {
   "cell_type": "code",
   "execution_count": 10,
   "id": "df54ab06-71d8-454a-be1b-d1091d9fccde",
   "metadata": {},
   "outputs": [
    {
     "name": "stdout",
     "output_type": "stream",
     "text": [
      "value1\n",
      "value2\n",
      "tuple value\n"
     ]
    }
   ],
   "source": [
    "my_dict = {}\n",
    "my_dict[\"key1\"] = \"value1\"\n",
    "my_dict[\"key2\"] = \"value2\"\n",
    "\n",
    "print(my_dict[\"key1\"])  # Output: value1\n",
    "print(my_dict[\"key2\"])  # Output: value2\n",
    "\n",
    "# Using tuples as dictionary keys\n",
    "my_dict[(1, 2, 3)] = \"tuple value\"\n",
    "print(my_dict[(1, 2, 3)])  # Output: tuple value"
   ]
  },
  {
   "cell_type": "code",
   "execution_count": null,
   "id": "2bb521a0-8768-44f5-869e-ff833aa2d5d9",
   "metadata": {},
   "outputs": [],
   "source": []
  }
 ],
 "metadata": {
  "kernelspec": {
   "display_name": "Python 3 (ipykernel)",
   "language": "python",
   "name": "python3"
  },
  "language_info": {
   "codemirror_mode": {
    "name": "ipython",
    "version": 3
   },
   "file_extension": ".py",
   "mimetype": "text/x-python",
   "name": "python",
   "nbconvert_exporter": "python",
   "pygments_lexer": "ipython3",
   "version": "3.10.8"
  }
 },
 "nbformat": 4,
 "nbformat_minor": 5
}
